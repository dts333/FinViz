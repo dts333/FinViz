{
 "cells": [
  {
   "cell_type": "code",
   "execution_count": 64,
   "metadata": {},
   "outputs": [],
   "source": [
    "import os\n",
    "import numpy as np\n",
    "import pandas as pd\n",
    "\n",
    "os.chdir('..')"
   ]
  },
  {
   "cell_type": "code",
   "execution_count": 83,
   "metadata": {},
   "outputs": [],
   "source": [
    "import Configs.config as config\n",
    "cutoff_date = np.datetime64('2017-04-09')"
   ]
  },
  {
   "cell_type": "code",
   "execution_count": 78,
   "metadata": {},
   "outputs": [],
   "source": [
    "sp = pd.read_csv(config.PATH + 'Data\\\\Yahoo\\\\^GSPC.csv')\n",
    "sp[['Open', 'High', 'Low', 'Close', 'Adj Close']] = sp[['Open', 'High', 'Low', 'Close', 'Adj Close']].div(sp.iloc[0]['Open'])"
   ]
  },
  {
   "cell_type": "code",
   "execution_count": 53,
   "metadata": {},
   "outputs": [
    {
     "data": {
      "text/plain": [
       "(188, 6)"
      ]
     },
     "execution_count": 53,
     "metadata": {},
     "output_type": "execute_result"
    }
   ],
   "source": [
    "spinoffs = pd.read_html('https://www.stockspinoffs.com/recent-spinoffs')[0]"
   ]
  },
  {
   "cell_type": "code",
   "execution_count": 54,
   "metadata": {},
   "outputs": [
    {
     "data": {
      "text/html": [
       "<div>\n",
       "<style scoped>\n",
       "    .dataframe tbody tr th:only-of-type {\n",
       "        vertical-align: middle;\n",
       "    }\n",
       "\n",
       "    .dataframe tbody tr th {\n",
       "        vertical-align: top;\n",
       "    }\n",
       "\n",
       "    .dataframe thead th {\n",
       "        text-align: right;\n",
       "    }\n",
       "</style>\n",
       "<table border=\"1\" class=\"dataframe\">\n",
       "  <thead>\n",
       "    <tr style=\"text-align: right;\">\n",
       "      <th></th>\n",
       "      <th>Parent Name</th>\n",
       "      <th>Parent Ticker</th>\n",
       "      <th>Spinoff Name</th>\n",
       "      <th>Spinoff Ticker</th>\n",
       "      <th>Spinoff Date</th>\n",
       "      <th>More Info</th>\n",
       "    </tr>\n",
       "  </thead>\n",
       "  <tbody>\n",
       "    <tr>\n",
       "      <th>0</th>\n",
       "      <td>Novartis</td>\n",
       "      <td>NVS</td>\n",
       "      <td>Alcon</td>\n",
       "      <td>ALC</td>\n",
       "      <td>April 9, 2019</td>\n",
       "      <td>info</td>\n",
       "    </tr>\n",
       "    <tr>\n",
       "      <th>1</th>\n",
       "      <td>AP Moller Maersk</td>\n",
       "      <td>AMKBY</td>\n",
       "      <td>The Drilling Company of 1972 A/S</td>\n",
       "      <td>Copenhagen:DRLCO</td>\n",
       "      <td>April 4, 2019</td>\n",
       "      <td>info</td>\n",
       "    </tr>\n",
       "    <tr>\n",
       "      <th>2</th>\n",
       "      <td>DowDupont (Merger of Dow Chemical &amp; DuPont) TB...</td>\n",
       "      <td>DWDP</td>\n",
       "      <td>Dow Chemical Company</td>\n",
       "      <td>DOW</td>\n",
       "      <td>April 1, 2019</td>\n",
       "      <td>info</td>\n",
       "    </tr>\n",
       "    <tr>\n",
       "      <th>3</th>\n",
       "      <td>Ironwood Pharmaceuticals</td>\n",
       "      <td>IRWD</td>\n",
       "      <td>Cyclerion Therapeutics</td>\n",
       "      <td>CYCN</td>\n",
       "      <td>April 1, 2019</td>\n",
       "      <td>info</td>\n",
       "    </tr>\n",
       "    <tr>\n",
       "      <th>4</th>\n",
       "      <td>Capital Product Partners LP</td>\n",
       "      <td>CPLP</td>\n",
       "      <td>Diamond S Shipping</td>\n",
       "      <td>DSSI</td>\n",
       "      <td>March 29, 2019</td>\n",
       "      <td>None Yet</td>\n",
       "    </tr>\n",
       "  </tbody>\n",
       "</table>\n",
       "</div>"
      ],
      "text/plain": [
       "                                         Parent Name Parent Ticker  \\\n",
       "0                                           Novartis           NVS   \n",
       "1                                   AP Moller Maersk         AMKBY   \n",
       "2  DowDupont (Merger of Dow Chemical & DuPont) TB...          DWDP   \n",
       "3                           Ironwood Pharmaceuticals          IRWD   \n",
       "4                        Capital Product Partners LP          CPLP   \n",
       "\n",
       "                       Spinoff Name    Spinoff Ticker    Spinoff Date  \\\n",
       "0                             Alcon               ALC   April 9, 2019   \n",
       "1  The Drilling Company of 1972 A/S  Copenhagen:DRLCO   April 4, 2019   \n",
       "2              Dow Chemical Company               DOW   April 1, 2019   \n",
       "3            Cyclerion Therapeutics              CYCN   April 1, 2019   \n",
       "4                Diamond S Shipping              DSSI  March 29, 2019   \n",
       "\n",
       "  More Info  \n",
       "0      info  \n",
       "1      info  \n",
       "2      info  \n",
       "3      info  \n",
       "4  None Yet  "
      ]
     },
     "execution_count": 54,
     "metadata": {},
     "output_type": "execute_result"
    }
   ],
   "source": [
    "spinoffs.head()"
   ]
  },
  {
   "cell_type": "code",
   "execution_count": 86,
   "metadata": {},
   "outputs": [
    {
     "data": {
      "text/plain": [
       "(126, 7)"
      ]
     },
     "execution_count": 86,
     "metadata": {},
     "output_type": "execute_result"
    }
   ],
   "source": [
    "spinoffs['Date'] = pd.to_datetime(spinoffs['Spinoff Date'], errors='coerce')\n",
    "#Dropping spinoffs that occured in multiple parts for simplicity\n",
    "spinoffs.dropna(inplace=True)\n",
    "#Dropping spinoffs without at least a year of follow up data\n",
    "spinoffs.drop(spinoffs[spinoffs['Date'] > cutoff_date].index, inplace=True)\n",
    "spinoffs.shape"
   ]
  },
  {
   "cell_type": "code",
   "execution_count": 56,
   "metadata": {},
   "outputs": [
    {
     "data": {
      "text/plain": [
       "(170, 7)"
      ]
     },
     "execution_count": 56,
     "metadata": {},
     "output_type": "execute_result"
    }
   ],
   "source": [
    "for index, row in spinoffs.iterrows():\n",
    "    stock = row['Spinoff Ticker']\n",
    "    df = pd.read_csv(config.PATH + 'Data\\\\Kaggle\\\\stocks\\\\' + stock + '.us.txt')\n",
    "    end_date = row['Date'] + np.timedelta4(2, 'Y')\n",
    "    "
   ]
  },
  {
   "cell_type": "code",
   "execution_count": 85,
   "metadata": {},
   "outputs": [
    {
     "data": {
      "text/plain": [
       "dtype('O')"
      ]
     },
     "execution_count": 85,
     "metadata": {},
     "output_type": "execute_result"
    }
   ],
   "source": []
  },
  {
   "cell_type": "code",
   "execution_count": null,
   "metadata": {},
   "outputs": [],
   "source": []
  }
 ],
 "metadata": {
  "kernelspec": {
   "display_name": "Python 3",
   "language": "python",
   "name": "python3"
  },
  "language_info": {
   "codemirror_mode": {
    "name": "ipython",
    "version": 3
   },
   "file_extension": ".py",
   "mimetype": "text/x-python",
   "name": "python",
   "nbconvert_exporter": "python",
   "pygments_lexer": "ipython3",
   "version": "3.6.5"
  }
 },
 "nbformat": 4,
 "nbformat_minor": 2
}
